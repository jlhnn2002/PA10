{
  "nbformat": 4,
  "nbformat_minor": 5,
  "metadata": {
    "kernelspec": {
      "display_name": "Python 3",
      "language": "python",
      "name": "python3"
    },
    "language_info": {
      "codemirror_mode": {
        "name": "ipython",
        "version": 3
      },
      "file_extension": ".py",
      "mimetype": "text/x-python",
      "name": "python",
      "nbconvert_exporter": "python",
      "pygments_lexer": "ipython3",
      "version": "3.9.5"
    },
    "colab": {
      "name": "CS_DS1100_PA_10_Starter (2).ipynb",
      "provenance": [],
      "collapsed_sections": [],
      "include_colab_link": true
    }
  },
  "cells": [
    {
      "cell_type": "markdown",
      "metadata": {
        "id": "view-in-github",
        "colab_type": "text"
      },
      "source": [
        "<a href=\"https://colab.research.google.com/github/jlhnn2002/PA10/blob/main/CS_DS1100_PA_10_Starter_(2).ipynb\" target=\"_parent\"><img src=\"https://colab.research.google.com/assets/colab-badge.svg\" alt=\"Open In Colab\"/></a>"
      ]
    },
    {
      "cell_type": "markdown",
      "metadata": {
        "id": "H9U6BMqMuSLM"
      },
      "source": [
        "# Programming Assignment (PA) 10\n",
        "Complete the cells below following the instructions on Brightspace"
      ],
      "id": "H9U6BMqMuSLM"
    },
    {
      "cell_type": "code",
      "metadata": {
        "id": "0e2593ca"
      },
      "source": [
        "# ********* You are ONLY allowed to use pandas in this cell ***********\n",
        "import pandas as pd\n",
        "# 0 TODO: load your dataset here to create a dataframe\n",
        "url= 'https://raw.githubusercontent.com/jlhnn2002/PA10/main/covid_data_csv.csv'\n",
        "df1=pd.read_csv(url)\n",
        "\n",
        "# TODO: turn your pandas dataframe into a numpy array using this format:\n",
        "\n",
        "a=df1.to_numpy()\n",
        "\n",
        "# ********* End of cell ***********"
      ],
      "id": "0e2593ca",
      "execution_count": 8,
      "outputs": []
    },
    {
      "cell_type": "code",
      "metadata": {
        "id": "20f4abf0",
        "colab": {
          "base_uri": "https://localhost:8080/"
        },
        "outputId": "4711678d-70bd-40d3-8605-ec5bf158fcb4"
      },
      "source": [
        "# Hint: for the questions on PA10, you will need array slicing and for loops\n",
        "# A cheatsheet containing numpy array slicing is available at\n",
        "# http://datacamp-community-prod.s3.amazonaws.com/ba1fe95a-8b70-4d2f-95b0-bc954e9071b0\n",
        "# 1 TODO: ENTER YOUR CODE HERE FOR ANSWERING QUESTION 1\n",
        "# Don't forget to import numpy\n",
        "a.shape\n",
        "a[0:5,0:5]\n",
        "\n",
        "\n",
        "\n",
        "\n",
        "\n"
      ],
      "id": "20f4abf0",
      "execution_count": 10,
      "outputs": [
        {
          "output_type": "execute_result",
          "data": {
            "text/plain": [
              "array([['USA', 35259330, 626509, 29490432, 5142389],\n",
              "       ['India', 31331145, 420038, 30495352, 415755],\n",
              "       ['Brazil', 19524092, 547134, 18259711, 717247],\n",
              "       ['Russia', 6078522, 152296, 5450004, 476222],\n",
              "       ['France', 5933510, 111565, 5669083, 152862]], dtype=object)"
            ]
          },
          "metadata": {},
          "execution_count": 10
        }
      ]
    },
    {
      "cell_type": "code",
      "metadata": {
        "id": "PsMTHvtLqg6s",
        "colab": {
          "base_uri": "https://localhost:8080/"
        },
        "outputId": "35a2ef4b-9a1e-4b9a-8af5-da65aa628340"
      },
      "source": [
        "# 2 TODO: ENTER YOUR CODE HERE FOR ANSWERING QUESTION 2\n",
        "tot_cases=a[:,1]\n",
        "sum=tot_cases.sum()\n",
        "print('Total cases in the world =',sum)\n",
        "\n"
      ],
      "id": "PsMTHvtLqg6s",
      "execution_count": 11,
      "outputs": [
        {
          "output_type": "stream",
          "name": "stdout",
          "text": [
            "Total cases in the world = 193808680\n"
          ]
        }
      ]
    },
    {
      "cell_type": "code",
      "metadata": {
        "id": "qpymEd1rqkCc",
        "colab": {
          "base_uri": "https://localhost:8080/"
        },
        "outputId": "86f74b68-1a65-4dec-c959-76f7d60b1eeb"
      },
      "source": [
        "# 3 TODO: ENTER YOUR CODE HERE FOR ANSWERING QUESTION 3\n",
        "tot_deaths=a[:,2]\n",
        "total=0\n",
        "for number in tot_deaths:\n",
        "  total=total+number\n",
        "print('Total deaths in the world =', total)\n",
        "\n",
        "\n",
        "\n",
        "\n",
        "\n",
        "\n"
      ],
      "id": "qpymEd1rqkCc",
      "execution_count": 14,
      "outputs": [
        {
          "output_type": "stream",
          "name": "stdout",
          "text": [
            "Total deaths in the world = 4157146\n"
          ]
        }
      ]
    },
    {
      "cell_type": "code",
      "metadata": {
        "id": "dJtmKcwWqmcj",
        "colab": {
          "base_uri": "https://localhost:8080/"
        },
        "outputId": "b8f0a7bb-fc63-45d9-fb1e-6e146f1cf5bc"
      },
      "source": [
        "# 4 TODO: ENTER YOUR CODE HERE FOR ANSWERING QUESTION 4\n",
        "tot_cases=a[:,1]\n",
        "countries=a[:,0]\n",
        "new_tot_cases=tot_cases[:]\n",
        "new_countries=countries[:]\n",
        "max_cases=[]\n",
        "for i in range(5):\n",
        "  max_val = -1\n",
        "  for index in range(len(new_tot_cases)):\n",
        "    if new_tot_cases[index]>max_val:\n",
        "      if index not in max_cases:\n",
        "        max_val=new_tot_cases[index]\n",
        "        max_cases.append(index)\n",
        "print('Top 5 countries:')\n",
        "for j in max_cases:\n",
        "  print(new_countries[j])\n",
        "\n",
        "\n",
        "  \n",
        " \n",
        "  \n",
        "\n",
        "  \n",
        "\n",
        "  \n",
        "\n",
        "\n",
        "\n",
        "\n",
        "\n",
        "\n",
        "\n",
        "\n",
        "\n",
        "\n",
        "\n"
      ],
      "id": "dJtmKcwWqmcj",
      "execution_count": 13,
      "outputs": [
        {
          "output_type": "stream",
          "name": "stdout",
          "text": [
            "Top 5 countries:\n",
            "USA\n",
            "India\n",
            "Brazil\n",
            "Russia\n",
            "France\n"
          ]
        }
      ]
    },
    {
      "cell_type": "code",
      "metadata": {
        "id": "UF32GZxHqop2",
        "colab": {
          "base_uri": "https://localhost:8080/"
        },
        "outputId": "6d3b384c-69df-404c-967e-c38cf87e8d7f"
      },
      "source": [
        "# 5 TODO: ENTER YOUR CODE HERE FOR ANSWERING QUESTION 5\n",
        "# Hint: to print a single bar, you can use this command: print('▇')\n",
        "total_world_cases=0\n",
        "for cases in tot_cases:\n",
        "  total_world_cases=total_world_cases+cases\n",
        "for i in range(5):\n",
        "  numerator=tot_cases[i]\n",
        "  percentage=(numerator/total_world_cases)*100\n",
        "  blocks=round(percentage)\n",
        "  bars='▇'* blocks\n",
        "  print(f'{countries[i]:<7}{bars:^2}')\n",
        "\n",
        "\n",
        "\n",
        "\n"
      ],
      "id": "UF32GZxHqop2",
      "execution_count": 26,
      "outputs": [
        {
          "output_type": "stream",
          "name": "stdout",
          "text": [
            "USA    ▇▇▇▇▇▇▇▇▇▇▇▇▇▇▇▇▇▇\n",
            "India  ▇▇▇▇▇▇▇▇▇▇▇▇▇▇▇▇\n",
            "Brazil ▇▇▇▇▇▇▇▇▇▇\n",
            "Russia ▇▇▇\n",
            "France ▇▇▇\n"
          ]
        }
      ]
    },
    {
      "cell_type": "code",
      "metadata": {
        "id": "Hsvr6EM7keFi"
      },
      "source": [
        ""
      ],
      "id": "Hsvr6EM7keFi",
      "execution_count": null,
      "outputs": []
    }
  ]
}